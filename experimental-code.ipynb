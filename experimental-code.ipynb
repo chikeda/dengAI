{
 "cells": [
  {
   "cell_type": "markdown",
   "metadata": {},
   "source": [
    "# Predicting Dengue Code"
   ]
  },
  {
   "cell_type": "code",
   "execution_count": 2,
   "metadata": {},
   "outputs": [],
   "source": [
    "# importing libraries\n",
    "import numpy as np\n",
    "import pandas as pd\n",
    "import seaborn as sns\n",
    "import statsmodels.api as sm\n",
    "import matplotlib\n",
    "import matplotlib.pyplot as plt\n",
    "\n",
    "%matplotlib inline\n",
    "\n",
    "# for making the report cleaner\n",
    "from warnings import filterwarnings\n",
    "filterwarnings('ignore')"
   ]
  },
  {
   "cell_type": "code",
   "execution_count": 3,
   "metadata": {},
   "outputs": [],
   "source": [
    "# getting the data\n",
    "filepath = 'data/'\n",
    "dengue_train_features = pd.read_csv(filepath + 'dengue_features_train.csv')\n",
    "dengue_test_features = pd.read_csv(filepath + 'dengue_features_test.csv')\n",
    "dengue_train_labels = pd.read_csv(filepath + 'dengue_labels_train.csv')\n",
    "dengue_train_features['total_cases'] = dengue_train_labels.total_cases"
   ]
  },
  {
   "cell_type": "code",
   "execution_count": 4,
   "metadata": {
    "scrolled": false
   },
   "outputs": [
    {
     "name": "stdout",
     "output_type": "stream",
     "text": [
      "NA values for train\n"
     ]
    },
    {
     "data": {
      "text/plain": [
       "city                                       0\n",
       "year                                       0\n",
       "weekofyear                                 0\n",
       "week_start_date                            0\n",
       "ndvi_ne                                  194\n",
       "ndvi_nw                                   52\n",
       "ndvi_se                                   22\n",
       "ndvi_sw                                   22\n",
       "precipitation_amt_mm                      13\n",
       "reanalysis_air_temp_k                     10\n",
       "reanalysis_avg_temp_k                     10\n",
       "reanalysis_dew_point_temp_k               10\n",
       "reanalysis_max_air_temp_k                 10\n",
       "reanalysis_min_air_temp_k                 10\n",
       "reanalysis_precip_amt_kg_per_m2           10\n",
       "reanalysis_relative_humidity_percent      10\n",
       "reanalysis_sat_precip_amt_mm              13\n",
       "reanalysis_specific_humidity_g_per_kg     10\n",
       "reanalysis_tdtr_k                         10\n",
       "station_avg_temp_c                        43\n",
       "station_diur_temp_rng_c                   43\n",
       "station_max_temp_c                        20\n",
       "station_min_temp_c                        14\n",
       "station_precip_mm                         22\n",
       "total_cases                                0\n",
       "dtype: int64"
      ]
     },
     "execution_count": 4,
     "metadata": {},
     "output_type": "execute_result"
    }
   ],
   "source": [
    "# number of null values per column\n",
    "print('NA values for train')\n",
    "dengue_train_features.isna().sum()"
   ]
  },
  {
   "cell_type": "code",
   "execution_count": 5,
   "metadata": {},
   "outputs": [
    {
     "name": "stdout",
     "output_type": "stream",
     "text": [
      "NA values for test\n"
     ]
    },
    {
     "data": {
      "text/plain": [
       "city                                      0\n",
       "year                                      0\n",
       "weekofyear                                0\n",
       "week_start_date                           0\n",
       "ndvi_ne                                  43\n",
       "ndvi_nw                                  11\n",
       "ndvi_se                                   1\n",
       "ndvi_sw                                   1\n",
       "precipitation_amt_mm                      2\n",
       "reanalysis_air_temp_k                     2\n",
       "reanalysis_avg_temp_k                     2\n",
       "reanalysis_dew_point_temp_k               2\n",
       "reanalysis_max_air_temp_k                 2\n",
       "reanalysis_min_air_temp_k                 2\n",
       "reanalysis_precip_amt_kg_per_m2           2\n",
       "reanalysis_relative_humidity_percent      2\n",
       "reanalysis_sat_precip_amt_mm              2\n",
       "reanalysis_specific_humidity_g_per_kg     2\n",
       "reanalysis_tdtr_k                         2\n",
       "station_avg_temp_c                       12\n",
       "station_diur_temp_rng_c                  12\n",
       "station_max_temp_c                        3\n",
       "station_min_temp_c                        9\n",
       "station_precip_mm                         5\n",
       "dtype: int64"
      ]
     },
     "execution_count": 5,
     "metadata": {},
     "output_type": "execute_result"
    }
   ],
   "source": [
    "# number of null values per column\n",
    "print('NA values for test')\n",
    "dengue_test_features.isna().sum()"
   ]
  },
  {
   "cell_type": "code",
   "execution_count": 6,
   "metadata": {},
   "outputs": [],
   "source": [
    "# converts to celsius\n",
    "def kelvin_to_c(temperature):\n",
    "    return temperature - 273.15\n",
    "\n",
    "# converts values of columns to celsius\n",
    "def column_to_celsius(df, column_name):\n",
    "    column_celsius = column_name[:-1] + \"c\"\n",
    "    df[column_celsius] = df[column_name].apply(lambda x: kelvin_to_c(x))\n",
    "        \n",
    "# replcae na values of column1 with column2\n",
    "def impute_from_column(df, column1, column2):\n",
    "    print(column1 + \" na values before:\", df[column1].isna().sum())\n",
    "    df[column1] = df[column1].fillna(df[column2])\n",
    "    print(column1 + \" na values after:\", df[column1].isna().sum())"
   ]
  },
  {
   "cell_type": "code",
   "execution_count": 7,
   "metadata": {},
   "outputs": [],
   "source": [
    "# converting to celsius\n",
    "column_to_celsius(dengue_train_features, 'reanalysis_avg_temp_k')\n",
    "column_to_celsius(dengue_train_features, 'reanalysis_max_air_temp_k')\n",
    "column_to_celsius(dengue_train_features, 'reanalysis_min_air_temp_k')\n",
    "column_to_celsius(dengue_train_features, 'reanalysis_tdtr_k')\n",
    "column_to_celsius(dengue_test_features, 'reanalysis_avg_temp_k')\n",
    "column_to_celsius(dengue_test_features, 'reanalysis_max_air_temp_k')\n",
    "column_to_celsius(dengue_test_features, 'reanalysis_min_air_temp_k')\n",
    "column_to_celsius(dengue_test_features, 'reanalysis_tdtr_k')"
   ]
  },
  {
   "cell_type": "code",
   "execution_count": 8,
   "metadata": {
    "scrolled": false
   },
   "outputs": [
    {
     "name": "stdout",
     "output_type": "stream",
     "text": [
      "station_avg_temp_c na values before: 43\n",
      "station_avg_temp_c na values after: 10\n",
      "station_diur_temp_rng_c na values before: 43\n",
      "station_diur_temp_rng_c na values after: 10\n",
      "station_max_temp_c na values before: 20\n",
      "station_max_temp_c na values after: 10\n",
      "station_min_temp_c na values before: 14\n",
      "station_min_temp_c na values after: 10\n",
      "station_avg_temp_c na values before: 12\n",
      "station_avg_temp_c na values after: 2\n",
      "station_diur_temp_rng_c na values before: 12\n",
      "station_diur_temp_rng_c na values after: 2\n",
      "station_max_temp_c na values before: 3\n",
      "station_max_temp_c na values after: 2\n",
      "station_min_temp_c na values before: 9\n",
      "station_min_temp_c na values after: 2\n"
     ]
    }
   ],
   "source": [
    "# imputing for dengue train\n",
    "reanalysis_c = ['reanalysis_avg_temp_c',\n",
    "                'reanalysis_max_air_temp_c',\n",
    "                'reanalysis_min_air_temp_c',\n",
    "                'reanalysis_tdtr_c']\n",
    "\n",
    "impute_from_column(dengue_train_features, 'station_avg_temp_c', 'reanalysis_avg_temp_c')\n",
    "impute_from_column(dengue_train_features, 'station_diur_temp_rng_c', 'reanalysis_tdtr_k')\n",
    "impute_from_column(dengue_train_features, 'station_max_temp_c', 'reanalysis_max_air_temp_c')\n",
    "impute_from_column(dengue_train_features, 'station_min_temp_c', 'reanalysis_min_air_temp_c')\n",
    "dengue_train_features = dengue_train_features.drop(columns=reanalysis_c, axis=1)\n",
    "\n",
    "impute_from_column(dengue_test_features, 'station_avg_temp_c', 'reanalysis_avg_temp_c')\n",
    "impute_from_column(dengue_test_features, 'station_diur_temp_rng_c', 'reanalysis_tdtr_k')\n",
    "impute_from_column(dengue_test_features, 'station_max_temp_c', 'reanalysis_max_air_temp_c')\n",
    "impute_from_column(dengue_test_features, 'station_min_temp_c', 'reanalysis_min_air_temp_c')\n",
    "dengue_test_features = dengue_test_features.drop(columns=reanalysis_c, axis=1)"
   ]
  },
  {
   "cell_type": "code",
   "execution_count": 9,
   "metadata": {},
   "outputs": [],
   "source": [
    "# forward filling data\n",
    "dengue_train_features.fillna(method='ffill', inplace=True)\n",
    "dengue_test_features.fillna(method='ffill', inplace=True)"
   ]
  },
  {
   "cell_type": "code",
   "execution_count": 10,
   "metadata": {},
   "outputs": [],
   "source": [
    "# dropping column with too many missing values and week start date\n",
    "dengue_train_features = dengue_train_features.drop(['ndvi_ne', 'week_start_date', 'precipitation_amt_mm'], axis=1)\n",
    "dengue_test_features = dengue_test_features.drop(['ndvi_ne', 'week_start_date', 'precipitation_amt_mm'], axis=1)"
   ]
  },
  {
   "cell_type": "code",
   "execution_count": 11,
   "metadata": {},
   "outputs": [],
   "source": [
    "# creating new features of interest\n",
    "dengue_train_features['temp_r'] = 100 /  dengue_train_features['station_diur_temp_rng_c']\n",
    "dengue_test_features['temp_r'] = 100 /  dengue_test_features['station_diur_temp_rng_c']\n",
    "dengue_train_features['temp_optim'] = 100 /  abs(302.151 - dengue_train_features['reanalysis_avg_temp_k'])\n",
    "dengue_test_features['temp_optim'] = 100 / abs(302.151 - dengue_train_features['reanalysis_avg_temp_k'])\n",
    "dengue_train_features['air_dew'] = 100 /  abs(dengue_train_features['reanalysis_dew_point_temp_k'] - dengue_train_features['reanalysis_air_temp_k'])\n",
    "dengue_test_features['air_dew'] = 100 /  abs(dengue_test_features['reanalysis_dew_point_temp_k'] - dengue_test_features['reanalysis_air_temp_k'])"
   ]
  },
  {
   "cell_type": "code",
   "execution_count": 12,
   "metadata": {},
   "outputs": [],
   "source": [
    "# seperating train features by city\n",
    "sj_train_features = dengue_train_features[dengue_train_features['city']=='sj']\n",
    "iq_train_features = dengue_train_features[dengue_train_features['city']=='iq']\n",
    "\n",
    "# seperating train labels by city\n",
    "sj_train_labels = dengue_train_labels[dengue_train_labels['city']=='sj']\n",
    "iq_train_labels = dengue_train_labels[dengue_train_labels['city']=='iq']\n",
    "\n",
    "# serperating test features by city\n",
    "sj_test_features = dengue_test_features[dengue_test_features['city']=='sj']\n",
    "iq_test_features = dengue_test_features[dengue_test_features['city']=='iq']"
   ]
  },
  {
   "cell_type": "code",
   "execution_count": 13,
   "metadata": {},
   "outputs": [],
   "source": [
    "sj_case_mean = sj_train_features.groupby(['weekofyear']).total_cases.mean().reset_index().set_index('weekofyear')\n",
    "sj_case_mean.columns = ['case']\n",
    "iq_case_mean = iq_train_features.groupby(['weekofyear']).total_cases.mean().reset_index().set_index('weekofyear')\n",
    "iq_case_mean.columns = ['case']"
   ]
  },
  {
   "cell_type": "code",
   "execution_count": 14,
   "metadata": {},
   "outputs": [],
   "source": [
    "sj_train_features = sj_train_features.join(sj_case_mean, on='weekofyear', rsuffix='_mean')\n",
    "iq_train_features = iq_train_features.join(iq_case_mean, on='weekofyear', rsuffix='_mean')\n",
    "                       \n",
    "sj_test_features = sj_test_features.join(sj_case_mean, on='weekofyear', rsuffix='_mean')\n",
    "iq_test_features = iq_test_features.join(iq_case_mean, on='weekofyear', rsuffix='_mean')"
   ]
  },
  {
   "cell_type": "code",
   "execution_count": 15,
   "metadata": {},
   "outputs": [],
   "source": [
    "# # shifting back by 4 weeks\n",
    "# sj_train_features.total_cases = sj_train_features.total_cases.shift(-4)\n",
    "# iq_train_features.total_cases = iq_train_features.total_cases.shift(-4)\n",
    "\n",
    "# # dropping the last row after the shift\n",
    "# sj_train_features = sj_train_features[:-4]\n",
    "# iq_train_features = iq_train_features[:-4]"
   ]
  },
  {
   "cell_type": "code",
   "execution_count": 16,
   "metadata": {},
   "outputs": [
    {
     "data": {
      "text/plain": [
       "city                                     0\n",
       "year                                     0\n",
       "weekofyear                               0\n",
       "ndvi_nw                                  0\n",
       "ndvi_se                                  0\n",
       "ndvi_sw                                  0\n",
       "reanalysis_air_temp_k                    0\n",
       "reanalysis_avg_temp_k                    0\n",
       "reanalysis_dew_point_temp_k              0\n",
       "reanalysis_max_air_temp_k                0\n",
       "reanalysis_min_air_temp_k                0\n",
       "reanalysis_precip_amt_kg_per_m2          0\n",
       "reanalysis_relative_humidity_percent     0\n",
       "reanalysis_sat_precip_amt_mm             0\n",
       "reanalysis_specific_humidity_g_per_kg    0\n",
       "reanalysis_tdtr_k                        0\n",
       "station_avg_temp_c                       0\n",
       "station_diur_temp_rng_c                  0\n",
       "station_max_temp_c                       0\n",
       "station_min_temp_c                       0\n",
       "station_precip_mm                        0\n",
       "total_cases                              0\n",
       "temp_r                                   0\n",
       "temp_optim                               0\n",
       "air_dew                                  0\n",
       "case                                     0\n",
       "dtype: int64"
      ]
     },
     "execution_count": 16,
     "metadata": {},
     "output_type": "execute_result"
    }
   ],
   "source": [
    "sj_train_features.isna().sum()"
   ]
  },
  {
   "cell_type": "code",
   "execution_count": 17,
   "metadata": {},
   "outputs": [],
   "source": [
    "# dropping the city columns\n",
    "sj_train_features = sj_train_features.drop('city', axis=1)\n",
    "iq_train_features = iq_train_features.drop('city', axis=1)\n",
    "\n",
    "sj_train_labels = sj_train_labels.drop('city', axis=1)\n",
    "iq_train_labels = iq_train_labels.drop('city', axis=1)\n",
    "\n",
    "sj_test_features = sj_test_features.drop('city', axis=1)\n",
    "iq_test_features = iq_test_features.drop('city', axis=1)"
   ]
  },
  {
   "cell_type": "code",
   "execution_count": 18,
   "metadata": {},
   "outputs": [
    {
     "name": "stdout",
     "output_type": "stream",
     "text": [
      "sj train shape (936, 25)\n",
      "iq train shape (520, 25)\n"
     ]
    }
   ],
   "source": [
    "print('sj train shape', sj_train_features.shape)\n",
    "print('iq train shape', iq_train_features.shape)"
   ]
  },
  {
   "cell_type": "code",
   "execution_count": 19,
   "metadata": {
    "scrolled": false
   },
   "outputs": [
    {
     "data": {
      "text/plain": [
       "['ndvi_nw',\n",
       " 'ndvi_se',\n",
       " 'ndvi_sw',\n",
       " 'reanalysis_air_temp_k',\n",
       " 'reanalysis_avg_temp_k',\n",
       " 'reanalysis_dew_point_temp_k',\n",
       " 'reanalysis_max_air_temp_k',\n",
       " 'reanalysis_min_air_temp_k',\n",
       " 'reanalysis_precip_amt_kg_per_m2',\n",
       " 'reanalysis_relative_humidity_percent',\n",
       " 'reanalysis_sat_precip_amt_mm',\n",
       " 'reanalysis_specific_humidity_g_per_kg',\n",
       " 'reanalysis_tdtr_k',\n",
       " 'station_avg_temp_c',\n",
       " 'station_diur_temp_rng_c',\n",
       " 'station_max_temp_c',\n",
       " 'station_min_temp_c',\n",
       " 'station_precip_mm',\n",
       " 'temp_r',\n",
       " 'temp_optim',\n",
       " 'air_dew']"
      ]
     },
     "execution_count": 19,
     "metadata": {},
     "output_type": "execute_result"
    }
   ],
   "source": [
    "train_numeric_columns = dengue_train_features.iloc[:,3:].columns.values.tolist()\n",
    "test_numeric_columns = dengue_test_features.iloc[:,3:].columns.values.tolist()\n",
    "test_numeric_columns"
   ]
  },
  {
   "cell_type": "markdown",
   "metadata": {},
   "source": [
    "[RF Link](#rf)\n",
    "<a id=\"col\"></a>"
   ]
  },
  {
   "cell_type": "code",
   "execution_count": 20,
   "metadata": {},
   "outputs": [
    {
     "data": {
      "text/plain": [
       "['reanalysis_dew_point_temp_k',\n",
       " 'reanalysis_precip_amt_kg_per_m2',\n",
       " 'reanalysis_specific_humidity_g_per_kg',\n",
       " 'station_avg_temp_c',\n",
       " 'station_max_temp_c',\n",
       " 'station_min_temp_c']"
      ]
     },
     "execution_count": 20,
     "metadata": {},
     "output_type": "execute_result"
    }
   ],
   "source": [
    "# keeping track of climate columns\n",
    "climate_columns = ['reanalysis_dew_point_temp_k',\n",
    "                   'reanalysis_precip_amt_kg_per_m2',\n",
    "                   'reanalysis_specific_humidity_g_per_kg',\n",
    "                   'station_avg_temp_c', \n",
    "                   'station_max_temp_c',\n",
    "                   'station_min_temp_c']\n",
    "climate_columns"
   ]
  },
  {
   "cell_type": "code",
   "execution_count": 21,
   "metadata": {},
   "outputs": [
    {
     "data": {
      "text/plain": [
       "['roll_mean_reanalysis_dew_point_temp_k',\n",
       " 'roll_mean_reanalysis_specific_humidity_g_per_kg',\n",
       " 'roll_mean_station_avg_temp_c',\n",
       " 'roll_mean_station_max_temp_c',\n",
       " 'roll_mean_station_min_temp_c',\n",
       " 'roll_sum_reanalysis_precip_amt_kg_per_m2']"
      ]
     },
     "execution_count": 21,
     "metadata": {},
     "output_type": "execute_result"
    }
   ],
   "source": [
    "# keeping track of the rolling columns\n",
    "mean_columns = ['reanalysis_dew_point_temp_k',\n",
    "                   'reanalysis_specific_humidity_g_per_kg',\n",
    "                   'station_avg_temp_c', \n",
    "                   'station_max_temp_c',\n",
    "                   'station_min_temp_c']\n",
    "sum_columns = ['reanalysis_precip_amt_kg_per_m2']\n",
    "roll_mean_columns = ['roll_mean_' + column for column in mean_columns]\n",
    "roll_sum_columns = ['roll_sum_' + column for column in sum_columns]\n",
    "roll_columns = roll_mean_columns + roll_sum_columns\n",
    "\n",
    "roll_columns"
   ]
  },
  {
   "cell_type": "code",
   "execution_count": 22,
   "metadata": {},
   "outputs": [],
   "source": [
    "# adds rolling features\n",
    "def add_roll_features(df, window):      \n",
    "    roll_mean_df = df[mean_columns].rolling(window=window, min_periods=1).mean()\n",
    "    roll_sum_df = df[sum_columns].rolling(window=window, min_periods=1).sum()\n",
    "\n",
    "    roll_mean_df.columns = roll_mean_columns\n",
    "    roll_sum_df.columns = roll_sum_columns\n",
    "\n",
    "    df = pd.concat([df, roll_mean_df, roll_sum_df], axis=1)\n",
    "    return df"
   ]
  },
  {
   "cell_type": "code",
   "execution_count": 23,
   "metadata": {},
   "outputs": [],
   "source": [
    "# adding rolling features to create new data set\n",
    "sj_train_all = add_roll_features(sj_train_features, 52)\n",
    "iq_train_all = add_roll_features(iq_train_features, 52)\n",
    "\n",
    "# performing the same on the test set\n",
    "sj_test_all = add_roll_features(sj_test_features, 52)\n",
    "iq_test_all = add_roll_features(iq_test_features, 52)"
   ]
  },
  {
   "cell_type": "code",
   "execution_count": 24,
   "metadata": {},
   "outputs": [
    {
     "name": "stdout",
     "output_type": "stream",
     "text": [
      "(936, 31) (260, 30)\n",
      "(520, 31) (156, 30)\n"
     ]
    }
   ],
   "source": [
    "print(sj_train_all.shape, sj_test_all.shape)\n",
    "print(iq_train_all.shape, iq_test_all.shape)"
   ]
  },
  {
   "cell_type": "code",
   "execution_count": 25,
   "metadata": {},
   "outputs": [],
   "source": [
    "from sklearn.ensemble import ExtraTreesRegressor\n",
    "from sklearn.feature_selection import SelectFromModel"
   ]
  },
  {
   "cell_type": "code",
   "execution_count": 26,
   "metadata": {},
   "outputs": [
    {
     "name": "stdout",
     "output_type": "stream",
     "text": [
      "[0.08140958 0.04990846 0.004897   0.03215005 0.02692577 0.00815154\n",
      " 0.0070512  0.01679267 0.01041843 0.00561257 0.00632335 0.00422473\n",
      " 0.0030288  0.01699939 0.00505153 0.00828752 0.0035991  0.00837938\n",
      " 0.00659781 0.00583598 0.00353837 0.0071337  0.00464659 0.14361385\n",
      " 0.125348   0.14722384 0.05942474 0.08813588 0.06147425 0.0478159 ]\n"
     ]
    },
    {
     "data": {
      "text/plain": [
       "['year',\n",
       " 'case',\n",
       " 'roll_mean_reanalysis_dew_point_temp_k',\n",
       " 'roll_mean_reanalysis_specific_humidity_g_per_kg',\n",
       " 'roll_mean_station_avg_temp_c',\n",
       " 'roll_mean_station_max_temp_c',\n",
       " 'roll_mean_station_min_temp_c']"
      ]
     },
     "execution_count": 26,
     "metadata": {},
     "output_type": "execute_result"
    }
   ],
   "source": [
    "regressor = ExtraTreesRegressor(n_estimators=250)\n",
    "regressor.fit(sj_train_all.loc[:,sj_train_all.columns!='total_cases'], sj_train_all.total_cases)\n",
    "print(regressor.feature_importances_)\n",
    "sj_test_all.columns.values[regressor.feature_importances_ > 0.05].tolist()"
   ]
  },
  {
   "cell_type": "code",
   "execution_count": 27,
   "metadata": {},
   "outputs": [
    {
     "name": "stdout",
     "output_type": "stream",
     "text": [
      "[0.07882237 0.04054394 0.01021082 0.01511247 0.00996019 0.01619967\n",
      " 0.01274123 0.01215149 0.01992395 0.01616524 0.01389326 0.01722932\n",
      " 0.01242969 0.01306854 0.01606867 0.03622111 0.02974852 0.02852762\n",
      " 0.01266442 0.0134167  0.03864962 0.01344679 0.01144698 0.17776092\n",
      " 0.05316904 0.04511881 0.07250754 0.0693167  0.05712745 0.03635693]\n"
     ]
    },
    {
     "data": {
      "text/plain": [
       "array(['year', 'case', 'roll_mean_reanalysis_dew_point_temp_k',\n",
       "       'roll_mean_station_avg_temp_c', 'roll_mean_station_max_temp_c',\n",
       "       'roll_mean_station_min_temp_c'], dtype=object)"
      ]
     },
     "execution_count": 27,
     "metadata": {},
     "output_type": "execute_result"
    }
   ],
   "source": [
    "regressor.fit(iq_train_all.loc[:,iq_train_all.columns != 'total_cases'], iq_train_all.total_cases)\n",
    "print(regressor.feature_importances_)\n",
    "iq_test_all.columns.values[regressor.feature_importances_ > 0.05]"
   ]
  },
  {
   "cell_type": "code",
   "execution_count": 28,
   "metadata": {},
   "outputs": [
    {
     "data": {
      "text/plain": [
       "['ndvi_nw',\n",
       " 'ndvi_se',\n",
       " 'ndvi_sw',\n",
       " 'reanalysis_air_temp_k',\n",
       " 'reanalysis_avg_temp_k',\n",
       " 'reanalysis_dew_point_temp_k',\n",
       " 'reanalysis_max_air_temp_k',\n",
       " 'reanalysis_min_air_temp_k',\n",
       " 'reanalysis_precip_amt_kg_per_m2',\n",
       " 'reanalysis_relative_humidity_percent',\n",
       " 'reanalysis_sat_precip_amt_mm',\n",
       " 'reanalysis_specific_humidity_g_per_kg',\n",
       " 'reanalysis_tdtr_k',\n",
       " 'station_avg_temp_c',\n",
       " 'station_diur_temp_rng_c',\n",
       " 'station_max_temp_c',\n",
       " 'station_min_temp_c',\n",
       " 'station_precip_mm',\n",
       " 'temp_r',\n",
       " 'temp_optim',\n",
       " 'air_dew',\n",
       " 'roll_mean_reanalysis_dew_point_temp_k',\n",
       " 'roll_mean_reanalysis_specific_humidity_g_per_kg',\n",
       " 'roll_mean_station_avg_temp_c',\n",
       " 'roll_mean_station_max_temp_c',\n",
       " 'roll_mean_station_min_temp_c',\n",
       " 'roll_sum_reanalysis_precip_amt_kg_per_m2']"
      ]
     },
     "execution_count": 28,
     "metadata": {},
     "output_type": "execute_result"
    }
   ],
   "source": [
    "scaled_columns = test_numeric_columns + roll_columns\n",
    "scaled_columns"
   ]
  },
  {
   "cell_type": "code",
   "execution_count": 29,
   "metadata": {},
   "outputs": [],
   "source": [
    "# from sklearn.preprocessing import StandardScaler\n",
    "\n",
    "# scaler = StandardScaler()\n",
    "# sj_train_scaled = pd.DataFrame(scaler.fit_transform(sj_train_all[scaled_columns]))\n",
    "# iq_train_scaled = pd.DataFrame(scaler.fit_transform(iq_train_all[scaled_columns]))\n",
    "# # sj_train_scaled['year'] = sj_train_all.year.values\n",
    "# # iq_train_scaled['year'] = iq_train_all.year.values\n",
    "# sj_train_scaled['weekofyear'] = sj_train_all.weekofyear.values\n",
    "# iq_train_scaled['weekofyear'] = iq_train_all.weekofyear.values\n",
    "# sj_train_scaled['total_cases'] = sj_train_all.total_cases.values\n",
    "# iq_train_scaled['total_cases'] = iq_train_all.total_cases.values\n",
    "\n",
    "# sj_test_scaled = pd.DataFrame(scaler.fit_transform(sj_test_all[scaled_columns]))\n",
    "# iq_test_scaled = pd.DataFrame(scaler.fit_transform(iq_test_all[scaled_columns]))\n",
    "# # sj_test_scaled['year'] = sj_test_all.year.values\n",
    "# # iq_test_scaled['year'] = iq_test_all.year.values\n",
    "# sj_test_scaled['weekofyear'] = sj_test_all.weekofyear.values\n",
    "# iq_test_scaled['weekofyear'] = iq_test_all.weekofyear.values\n",
    "\n",
    "# sj_train_scaled.columns = scaled_columns + ['weekofyear', 'total_cases']\n",
    "# iq_train_scaled.columns = scaled_columns + ['weekofyear', 'total_cases']\n",
    "\n",
    "# sj_test_scaled.columns = scaled_columns + ['weekofyear']\n",
    "# iq_test_scaled.columns = scaled_columns + ['weekofyear']"
   ]
  },
  {
   "cell_type": "code",
   "execution_count": 30,
   "metadata": {},
   "outputs": [],
   "source": [
    "# adding new features to our data\n",
    "sj_train_use = sj_train_all[['weekofyear', 'total_cases'] + climate_columns + roll_columns]\n",
    "iq_train_use = iq_train_all[['weekofyear', 'total_cases'] + climate_columns + roll_columns]\n",
    "\n",
    "sj_test_use = sj_test_all[['weekofyear'] + climate_columns + roll_columns]\n",
    "iq_test_use = iq_test_all[['weekofyear'] + climate_columns + roll_columns]"
   ]
  },
  {
   "cell_type": "code",
   "execution_count": 31,
   "metadata": {},
   "outputs": [],
   "source": [
    "# changes the outliers\n",
    "def change_outliers(df, m):\n",
    "    threshold = m * np.std(df.total_cases)\n",
    "    lesser = (df.total_cases - np.mean(df.total_cases)) < threshold\n",
    "    greater = (df.total_cases - np.mean(df.total_cases)) > threshold\n",
    "    df.loc[greater, 'total_cases'] = threshold\n",
    "    return df\n",
    "\n",
    "# removes total cases outliers\n",
    "def remove_outliers(df, m):\n",
    "    return df[abs(df.total_cases - np.mean(df.total_cases)) < m * np.std(df.total_cases)]\n",
    "\n",
    "# shows outliers\n",
    "def show_outliers(df, m):\n",
    "    threshold = m * np.std(df.total_cases)\n",
    "    diff = abs(df.total_cases - np.mean(df.total_cases)) > threshold\n",
    "    print(df[diff].head())"
   ]
  },
  {
   "cell_type": "code",
   "execution_count": 32,
   "metadata": {},
   "outputs": [],
   "source": [
    "sj_train = remove_outliers(sj_train_use, 2.5)\n",
    "iq_train = remove_outliers(iq_train_use, 2.5)\n",
    "sj_cases = sj_train.total_cases\n",
    "iq_cases = iq_train.total_cases\n",
    "sj_train = sj_train.drop(columns=['total_cases'], axis=1)\n",
    "iq_train = iq_train.drop(columns=['total_cases'], axis=1)"
   ]
  },
  {
   "cell_type": "code",
   "execution_count": 33,
   "metadata": {},
   "outputs": [
    {
     "name": "stdout",
     "output_type": "stream",
     "text": [
      "(912,) (912, 13)\n",
      "(505,) (505, 13)\n"
     ]
    }
   ],
   "source": [
    "print(sj_cases.shape, sj_train.shape)\n",
    "print(iq_cases.shape, iq_train.shape)"
   ]
  },
  {
   "cell_type": "code",
   "execution_count": 34,
   "metadata": {},
   "outputs": [
    {
     "data": {
      "text/plain": [
       "['weekofyear',\n",
       " 'reanalysis_dew_point_temp_k',\n",
       " 'reanalysis_precip_amt_kg_per_m2',\n",
       " 'reanalysis_specific_humidity_g_per_kg',\n",
       " 'station_avg_temp_c',\n",
       " 'station_max_temp_c',\n",
       " 'station_min_temp_c',\n",
       " 'roll_mean_reanalysis_dew_point_temp_k',\n",
       " 'roll_mean_reanalysis_specific_humidity_g_per_kg',\n",
       " 'roll_mean_station_avg_temp_c',\n",
       " 'roll_mean_station_max_temp_c',\n",
       " 'roll_mean_station_min_temp_c',\n",
       " 'roll_sum_reanalysis_precip_amt_kg_per_m2']"
      ]
     },
     "execution_count": 34,
     "metadata": {},
     "output_type": "execute_result"
    }
   ],
   "source": [
    "sj_train.columns.values.tolist()"
   ]
  },
  {
   "cell_type": "code",
   "execution_count": 35,
   "metadata": {},
   "outputs": [],
   "source": [
    "from sklearn.model_selection import train_test_split"
   ]
  },
  {
   "cell_type": "code",
   "execution_count": 60,
   "metadata": {},
   "outputs": [],
   "source": [
    "# splitting to subtrain and subtest for both cities to be used in cross validation\n",
    "sj_train_X, sj_test_X, sj_train_y, sj_test_y = train_test_split(sj_train, \n",
    "                                                                sj_cases,\n",
    "                                                                test_size = 0.2,\n",
    "                                                                stratify=sj_train.weekofyear)\n",
    "iq_train_X, iq_test_X, iq_train_y, iq_test_y = train_test_split(iq_train,\n",
    "                                                                iq_cases,\n",
    "                                                                test_size = 0.2,\n",
    "                                                                stratify=iq_train.weekofyear)"
   ]
  },
  {
   "cell_type": "code",
   "execution_count": 61,
   "metadata": {},
   "outputs": [
    {
     "data": {
      "text/plain": [
       "['weekofyear',\n",
       " 'reanalysis_dew_point_temp_k',\n",
       " 'reanalysis_precip_amt_kg_per_m2',\n",
       " 'reanalysis_specific_humidity_g_per_kg',\n",
       " 'station_avg_temp_c',\n",
       " 'station_max_temp_c',\n",
       " 'station_min_temp_c',\n",
       " 'roll_mean_reanalysis_dew_point_temp_k',\n",
       " 'roll_mean_reanalysis_specific_humidity_g_per_kg',\n",
       " 'roll_mean_station_avg_temp_c',\n",
       " 'roll_mean_station_max_temp_c',\n",
       " 'roll_mean_station_min_temp_c',\n",
       " 'roll_sum_reanalysis_precip_amt_kg_per_m2']"
      ]
     },
     "execution_count": 61,
     "metadata": {},
     "output_type": "execute_result"
    }
   ],
   "source": [
    "sj_train.columns.values.tolist()"
   ]
  },
  {
   "cell_type": "code",
   "execution_count": 62,
   "metadata": {},
   "outputs": [],
   "source": [
    "from sklearn.model_selection import GridSearchCV, KFold, RandomizedSearchCV\n",
    "from sklearn.ensemble import RandomForestRegressor\n",
    "from sklearn.ensemble import GradientBoostingRegressor\n",
    "from sklearn.svm import SVR\n",
    "from sklearn.preprocessing import Normalizer\n",
    "from sklearn.metrics import mean_absolute_error\n",
    "from xgboost import XGBRegressor\n",
    "from xgboost import Booster\n",
    "\n",
    "from sklearn.feature_selection import SelectFromModel\n",
    "from sklearn.pipeline import Pipeline"
   ]
  },
  {
   "cell_type": "code",
   "execution_count": 63,
   "metadata": {},
   "outputs": [],
   "source": [
    "# defining the regressors\n",
    "xgb_regressor = XGBRegressor(random_state=777)\n",
    "rf_regressor = RandomForestRegressor(random_state=777)\n",
    "gb_regressor = GradientBoostingRegressor(random_state=777)\n",
    "sv_regressor = SVR()"
   ]
  },
  {
   "cell_type": "markdown",
   "metadata": {},
   "source": [
    "### Baseline Models"
   ]
  },
  {
   "cell_type": "code",
   "execution_count": 64,
   "metadata": {},
   "outputs": [
    {
     "name": "stdout",
     "output_type": "stream",
     "text": [
      "SJ XGBoost baseline MAE: 22.141174605146784\n",
      "IQ XGBoost baseline MAE: 3.6642447677579257\n"
     ]
    }
   ],
   "source": [
    "# XGB baseline models\n",
    "sj_xgb_bm = xgb_regressor.fit(sj_train_X, sj_train_y)\n",
    "iq_xgb_bm = xgb_regressor.fit(iq_train_X, iq_train_y)\n",
    "\n",
    "sj_xgb_bm_y = sj_xgb_bm.predict(sj_test_X)\n",
    "iq_xgb_bm_y = iq_xgb_bm.predict(iq_test_X)\n",
    "\n",
    "print('SJ XGBoost baseline MAE:', mean_absolute_error(sj_xgb_bm_y, sj_test_y))\n",
    "print('IQ XGBoost baseline MAE:', mean_absolute_error(iq_xgb_bm_y, iq_test_y))"
   ]
  },
  {
   "cell_type": "code",
   "execution_count": 65,
   "metadata": {},
   "outputs": [
    {
     "name": "stdout",
     "output_type": "stream",
     "text": [
      "SJ Random Forest baseline MAE: 20.879234972677597\n",
      "IQ Random Forest baseline MAE: 3.066336633663367\n"
     ]
    }
   ],
   "source": [
    "# Random Forest baseline models\n",
    "sj_rf_bm = rf_regressor.fit(sj_train_X, sj_train_y)\n",
    "iq_rf_bm = rf_regressor.fit(iq_train_X, iq_train_y)\n",
    "\n",
    "sj_rf_bm_y = sj_rf_bm.predict(sj_test_X)\n",
    "iq_rf_bm_y = iq_rf_bm.predict(iq_test_X)\n",
    "\n",
    "print('SJ Random Forest baseline MAE:', mean_absolute_error(sj_rf_bm_y, sj_test_y))\n",
    "print('IQ Random Forest baseline MAE:', mean_absolute_error(iq_rf_bm_y, iq_test_y))"
   ]
  },
  {
   "cell_type": "code",
   "execution_count": 66,
   "metadata": {},
   "outputs": [
    {
     "name": "stdout",
     "output_type": "stream",
     "text": [
      "SJ Gradient Boost baseline MAE: 18.1430888149902\n",
      "IQ Gradient Boost baseline MAE: 3.6684072856264995\n"
     ]
    }
   ],
   "source": [
    "# Gradient Boost baseline models\n",
    "sj_gb_bm = gb_regressor.fit(sj_train_X, sj_train_y)\n",
    "iq_gb_bm = gb_regressor.fit(iq_train_X, iq_train_y)\n",
    "\n",
    "sj_gb_bm_y = sj_gb_bm.predict(sj_test_X)\n",
    "iq_gb_bm_y = iq_gb_bm.predict(iq_test_X)\n",
    "\n",
    "print('SJ Gradient Boost baseline MAE:', mean_absolute_error(sj_gb_bm_y, sj_test_y))\n",
    "print('IQ Gradient Boost baseline MAE:', mean_absolute_error(iq_gb_bm_y, iq_test_y))"
   ]
  },
  {
   "cell_type": "code",
   "execution_count": 67,
   "metadata": {},
   "outputs": [
    {
     "name": "stdout",
     "output_type": "stream",
     "text": [
      "SJ Support Vector baseline MAE: 20.509821001922738\n",
      "IQ Support Vector baseline MAE: 4.987383710055619\n"
     ]
    }
   ],
   "source": [
    "# Support Vector baseline models\n",
    "sj_sv_bm = sv_regressor.fit(sj_train_X, sj_train_y)\n",
    "iq_sv_bm = sv_regressor.fit(iq_train_X, iq_train_y)\n",
    "\n",
    "sj_sv_bm_y = sj_sv_bm.predict(sj_test_X)\n",
    "iq_sv_bm_y = iq_sv_bm.predict(iq_test_X)\n",
    "\n",
    "print('SJ Support Vector baseline MAE:', mean_absolute_error(sj_sv_bm_y, sj_test_y))\n",
    "print('IQ Support Vector baseline MAE:', mean_absolute_error(iq_sv_bm_y, iq_test_y))"
   ]
  },
  {
   "cell_type": "markdown",
   "metadata": {},
   "source": [
    "## GridSearch"
   ]
  },
  {
   "cell_type": "code",
   "execution_count": 68,
   "metadata": {},
   "outputs": [],
   "source": [
    "# returns model\n",
    "def get_model(X, y, estimator, param_grid):            \n",
    "    \n",
    "    grid_search = GridSearchCV(estimator=estimator, \n",
    "                               param_grid=param_grid, \n",
    "                               scoring=\"neg_mean_absolute_error\", \n",
    "                               cv=KFold(n_splits=10, shuffle=True, random_state=1))\n",
    "    \n",
    "    grid_result = grid_search.fit(X=X, y=y)\n",
    "    print(grid_result.best_score_)\n",
    "    print(grid_result.best_params_)\n",
    "    return grid_result"
   ]
  },
  {
   "cell_type": "code",
   "execution_count": 69,
   "metadata": {},
   "outputs": [],
   "source": [
    "# saves the submission into csv\n",
    "def save_formatted_csv(sj_preds, iq_preds, filename):\n",
    "    submission = pd.read_csv(\"data/submission_format.csv\",\n",
    "                             index_col=[0, 1, 2])\n",
    "    submission.total_cases = np.concatenate([sj_preds, iq_preds])\n",
    "    submission.to_csv(\"data/\" + filename + \".csv\")"
   ]
  },
  {
   "cell_type": "code",
   "execution_count": 70,
   "metadata": {},
   "outputs": [],
   "source": [
    "# defining parameters for gridsearch\n",
    "xgb_params = {'n_estimators': [100, 200, 500], \n",
    "              'max_depth': [3, 5],\n",
    "              'learning_rate': [0.01, 0.1, 0.2],\n",
    "              'gamma': [0.1, 0.2]}\n",
    "rf_params = {'n_estimators': [250]}\n",
    "gb_params = {'n_estimators': [100, 200, 250], \n",
    "             'max_depth': range(5,7),\n",
    "             'learning_rate': [0.01, 0.1, 0.2]}\n",
    "sv_params = {'kernel':['linear'],\n",
    "             'C':[0.1, 1],\n",
    "             'gamma':[ 0.01, 0.1, 1]}"
   ]
  },
  {
   "cell_type": "markdown",
   "metadata": {},
   "source": [
    "### XGBoost Model"
   ]
  },
  {
   "cell_type": "code",
   "execution_count": 71,
   "metadata": {},
   "outputs": [],
   "source": [
    "# # grid search on sj xgb model\n",
    "# sj_xgb_model = get_model(sj_train_X, sj_train_y, xgb_regressor, xgb_params)"
   ]
  },
  {
   "cell_type": "code",
   "execution_count": 72,
   "metadata": {},
   "outputs": [],
   "source": [
    "# # grid search to get model\n",
    "# iq_xgb_model = get_model(iq_train_X, iq_train_y, xgb_regressor, xgb_params)"
   ]
  },
  {
   "cell_type": "code",
   "execution_count": 73,
   "metadata": {},
   "outputs": [],
   "source": [
    "# # checking mae values\n",
    "# sj_xgb_y = sj_gb_model.predict(sj_test_X)\n",
    "# iq_xgb_y = iq_xgb_model.predict(iq_test_X)\n",
    "# sj_gb_y = sj_gb_y.clip(min=0)\n",
    "# iq_xgb_y = iq_xgb_y.clip(min=0)\n",
    "\n",
    "# print('SJ XGB baseline MAE:', mean_absolute_error(sj_xgb_y, sj_test_y))\n",
    "# print('IQ XGB baseline MAE:', mean_absolute_error(iq_xgb_y, iq_test_y))"
   ]
  },
  {
   "cell_type": "code",
   "execution_count": 74,
   "metadata": {},
   "outputs": [],
   "source": [
    "# sj_xgb_preds = sj_xgb_model.predict(sj_test_use).astype(int)\n",
    "# iq_xgb_preds = iq_xgb_model.predict(iq_test_use).astype(int)\n",
    "# sj_xgb_preds = sj_xgb_preds.clip(min=0)\n",
    "# iq_xgb_preds = iq_xgb_preds.clip(min=0)"
   ]
  },
  {
   "cell_type": "code",
   "execution_count": 75,
   "metadata": {},
   "outputs": [],
   "source": [
    "# sns.scatterplot(data=np.concatenate((sj_xgb_preds, iq_xgb_preds), axis=0))"
   ]
  },
  {
   "cell_type": "code",
   "execution_count": 76,
   "metadata": {},
   "outputs": [],
   "source": [
    "# save_formatted_csv(sj_xgb_preds, iq_xgb_preds, 'xgb_preds_new')"
   ]
  },
  {
   "cell_type": "markdown",
   "metadata": {},
   "source": [
    "<a id=\"rf\"></a>\n",
    "[col](#col)\n",
    "### Random Forest Model"
   ]
  },
  {
   "cell_type": "code",
   "execution_count": 77,
   "metadata": {},
   "outputs": [
    {
     "name": "stdout",
     "output_type": "stream",
     "text": [
      "-8.682139917695473\n",
      "{'n_estimators': 250}\n"
     ]
    }
   ],
   "source": [
    "# grid search on sj xgb model\n",
    "sj_rf_model = get_model(sj_train_X, sj_train_y, rf_regressor, rf_params)"
   ]
  },
  {
   "cell_type": "code",
   "execution_count": 78,
   "metadata": {},
   "outputs": [
    {
     "name": "stderr",
     "output_type": "stream",
     "text": [
      "/Library/Frameworks/Python.framework/Versions/3.7/lib/python3.7/site-packages/sklearn/model_selection/_search.py:841: DeprecationWarning: The default of the `iid` parameter will change from True to False in version 0.22 and will be removed in 0.24. This will change numeric results when test-set sizes are unequal.\n",
      "  DeprecationWarning)\n"
     ]
    },
    {
     "name": "stdout",
     "output_type": "stream",
     "text": [
      "-3.2551188118811885\n",
      "{'n_estimators': 250}\n"
     ]
    }
   ],
   "source": [
    "# grid search on iq xgb model\n",
    "iq_rf_model = get_model(iq_train_X, iq_train_y, rf_regressor, rf_params)"
   ]
  },
  {
   "cell_type": "code",
   "execution_count": 79,
   "metadata": {},
   "outputs": [
    {
     "name": "stdout",
     "output_type": "stream",
     "text": [
      "SJ Random Forest baseline MAE: 7.432437158469947\n",
      "IQ Random Forest baseline MAE: 3.196475247524753\n"
     ]
    }
   ],
   "source": [
    "# testing mae\n",
    "sj_rf_y = sj_rf_model.predict(sj_test_X)\n",
    "iq_rf_y = iq_rf_model.predict(iq_test_X)\n",
    "sj_rf_y = sj_rf_y.clip(min=0)\n",
    "iq_rf_y = iq_rf_y.clip(min=0)\n",
    "\n",
    "print('SJ Random Forest baseline MAE:', mean_absolute_error(sj_rf_y, sj_test_y))\n",
    "print('IQ Random Forest baseline MAE:', mean_absolute_error(iq_rf_y, iq_test_y))"
   ]
  },
  {
   "cell_type": "code",
   "execution_count": 80,
   "metadata": {},
   "outputs": [],
   "source": [
    "sj_rf_preds = sj_rf_model.predict(sj_test_use).round().astype(int)\n",
    "iq_rf_preds = iq_rf_model.predict(iq_test_use).round().astype(int)\n",
    "sj_rf_preds = sj_rf_preds.clip(min=0)\n",
    "iq_rf_preds = iq_rf_preds.clip(min=0)"
   ]
  },
  {
   "cell_type": "code",
   "execution_count": 81,
   "metadata": {},
   "outputs": [
    {
     "data": {
      "text/plain": [
       "<matplotlib.axes._subplots.AxesSubplot at 0x117d1f748>"
      ]
     },
     "execution_count": 81,
     "metadata": {},
     "output_type": "execute_result"
    },
    {
     "data": {
      "image/png": "[encoded data removed]",
      "text/plain": [
       "<Figure size 1440x1080 with 1 Axes>"
      ]
     },
     "metadata": {
      "needs_background": "light"
     },
     "output_type": "display_data"
    }
   ],
   "source": [
    "plt.figure(figsize=(20,15))\n",
    "results = np.concatenate((sj_rf_preds, iq_rf_preds),axis=0)\n",
    "sns.scatterplot(data=results)\n"
   ]
  },
  {
   "cell_type": "code",
   "execution_count": 1603,
   "metadata": {},
   "outputs": [],
   "source": [
    "# save_formatted_csv(sj_rf_preds, iq_rf_preds, 'rf_preds')"
   ]
  },
  {
   "cell_type": "markdown",
   "metadata": {},
   "source": [
    "### Gradient Boost Model"
   ]
  },
  {
   "cell_type": "code",
   "execution_count": 82,
   "metadata": {},
   "outputs": [
    {
     "name": "stderr",
     "output_type": "stream",
     "text": [
      "/Library/Frameworks/Python.framework/Versions/3.7/lib/python3.7/site-packages/sklearn/model_selection/_search.py:841: DeprecationWarning: The default of the `iid` parameter will change from True to False in version 0.22 and will be removed in 0.24. This will change numeric results when test-set sizes are unequal.\n",
      "  DeprecationWarning)\n"
     ]
    },
    {
     "name": "stdout",
     "output_type": "stream",
     "text": [
      "-8.480936054199178\n",
      "{'learning_rate': 0.1, 'max_depth': 6, 'n_estimators': 250}\n"
     ]
    }
   ],
   "source": [
    "# grid search on sj xgb model\n",
    "sj_gb_model = get_model(sj_train_X, sj_train_y, gb_regressor, gb_params)"
   ]
  },
  {
   "cell_type": "code",
   "execution_count": 83,
   "metadata": {},
   "outputs": [
    {
     "name": "stdout",
     "output_type": "stream",
     "text": [
      "-3.2047158205316912\n",
      "{'learning_rate': 0.1, 'max_depth': 6, 'n_estimators': 200}\n"
     ]
    },
    {
     "name": "stderr",
     "output_type": "stream",
     "text": [
      "/Library/Frameworks/Python.framework/Versions/3.7/lib/python3.7/site-packages/sklearn/model_selection/_search.py:841: DeprecationWarning: The default of the `iid` parameter will change from True to False in version 0.22 and will be removed in 0.24. This will change numeric results when test-set sizes are unequal.\n",
      "  DeprecationWarning)\n"
     ]
    }
   ],
   "source": [
    "# grid search on iq xgb model\n",
    "iq_gb_model = get_model(iq_train_X, iq_train_y, gb_regressor, gb_params)"
   ]
  },
  {
   "cell_type": "code",
   "execution_count": 84,
   "metadata": {},
   "outputs": [
    {
     "name": "stdout",
     "output_type": "stream",
     "text": [
      "SJ Gradient Boost baseline MAE: 7.089741486701818\n",
      "IQ Gradient Boost baseline MAE: 3.3189046366793074\n"
     ]
    }
   ],
   "source": [
    "# testing mae\n",
    "sj_gb_y = sj_gb_model.predict(sj_test_X)\n",
    "iq_gb_y = iq_gb_model.predict(iq_test_X)\n",
    "sj_gb_y = sj_gb_y.clip(min=0)\n",
    "iq_gb_y = iq_gb_y.clip(min=0)\n",
    "\n",
    "print('SJ Gradient Boost baseline MAE:', mean_absolute_error(sj_gb_y, sj_test_y))\n",
    "print('IQ Gradient Boost baseline MAE:', mean_absolute_error(iq_gb_y, iq_test_y))"
   ]
  },
  {
   "cell_type": "code",
   "execution_count": 85,
   "metadata": {},
   "outputs": [],
   "source": [
    "sj_gb_preds = sj_gb_model.predict(sj_test_use).round().astype(int)\n",
    "iq_gb_preds = iq_gb_model.predict(iq_test_use).round().astype(int)\n",
    "sj_gb_preds = sj_gb_preds.clip(min=0)\n",
    "iq_gb_preds = iq_gb_preds.clip(min=0)"
   ]
  },
  {
   "cell_type": "code",
   "execution_count": 86,
   "metadata": {},
   "outputs": [
    {
     "data": {
      "text/plain": [
       "<matplotlib.axes._subplots.AxesSubplot at 0x11a8106d8>"
      ]
     },
     "execution_count": 86,
     "metadata": {},
     "output_type": "execute_result"
    },
    {
     "data": {
      "image/png": "[encoded data removed]",
      "text/plain": [
       "<Figure size 1440x1080 with 1 Axes>"
      ]
     },
     "metadata": {
      "needs_background": "light"
     },
     "output_type": "display_data"
    }
   ],
   "source": [
    "plt.figure(figsize=(20,15))\n",
    "# rf = pd.read_csv(\"data/22_rf_preds_new.csv\").total_cases\n",
    "# gb = pd.read_csv(\"data/23_gb_preds2.csv\").total_cases\n",
    "# sns.scatterplot(data=rf)\n",
    "# sns.scatterplot(data=gb)\n",
    "sns.scatterplot(data=np.concatenate((sj_gb_preds, iq_gb_preds), axis=0))"
   ]
  },
  {
   "cell_type": "code",
   "execution_count": 1663,
   "metadata": {},
   "outputs": [],
   "source": [
    "# save_formatted_csv(sj_gb_preds, iq_rf_preds, 'gb_preds')"
   ]
  },
  {
   "cell_type": "markdown",
   "metadata": {},
   "source": [
    "### SVM Model"
   ]
  },
  {
   "cell_type": "code",
   "execution_count": 87,
   "metadata": {},
   "outputs": [
    {
     "name": "stdout",
     "output_type": "stream",
     "text": [
      "-16.654611334252014\n",
      "{'C': 1, 'gamma': 0.01, 'kernel': 'linear'}\n"
     ]
    }
   ],
   "source": [
    "# grid search on sj xgb model\n",
    "sj_sv_model = get_model(sj_train_X, sj_train_y, sv_regressor, sv_params)"
   ]
  },
  {
   "cell_type": "code",
   "execution_count": 88,
   "metadata": {},
   "outputs": [
    {
     "name": "stderr",
     "output_type": "stream",
     "text": [
      "/Library/Frameworks/Python.framework/Versions/3.7/lib/python3.7/site-packages/sklearn/model_selection/_search.py:841: DeprecationWarning: The default of the `iid` parameter will change from True to False in version 0.22 and will be removed in 0.24. This will change numeric results when test-set sizes are unequal.\n",
      "  DeprecationWarning)\n"
     ]
    },
    {
     "name": "stdout",
     "output_type": "stream",
     "text": [
      "-4.325309654239889\n",
      "{'C': 0.1, 'gamma': 0.01, 'kernel': 'linear'}\n"
     ]
    }
   ],
   "source": [
    "# grid search on iq xgb model\n",
    "iq_sv_model = get_model(iq_train_X, iq_train_y, sv_regressor, sv_params)"
   ]
  },
  {
   "cell_type": "code",
   "execution_count": 89,
   "metadata": {},
   "outputs": [
    {
     "name": "stdout",
     "output_type": "stream",
     "text": [
      "SJ SVM baseline MAE: 14.016263411051009\n",
      "IQ SVM baseline MAE: 4.504091248394759\n"
     ]
    }
   ],
   "source": [
    "sj_sv_y = sj_sv_model.predict(sj_test_X)\n",
    "iq_sv_y = iq_sv_model.predict(iq_test_X)\n",
    "sj_sv_y = sj_sv_y.clip(min=0)\n",
    "iq_sv_y = iq_sv_y.clip(min=0)\n",
    "\n",
    "print('SJ SVM baseline MAE:', mean_absolute_error(sj_sv_y, sj_test_y))\n",
    "print('IQ SVM baseline MAE:', mean_absolute_error(iq_sv_y, iq_test_y))"
   ]
  },
  {
   "cell_type": "code",
   "execution_count": 90,
   "metadata": {},
   "outputs": [],
   "source": [
    "sj_sv_preds = sj_sv_model.predict(sj_test_use).astype(int)\n",
    "iq_sv_preds = iq_sv_model.predict(iq_test_use).astype(int)\n",
    "sj_sv_preds = sj_sv_preds.clip(min=0)\n",
    "iq_sv_preds = iq_sv_preds.clip(min=0)"
   ]
  },
  {
   "cell_type": "code",
   "execution_count": 91,
   "metadata": {},
   "outputs": [
    {
     "data": {
      "text/plain": [
       "<matplotlib.axes._subplots.AxesSubplot at 0x11a84b5f8>"
      ]
     },
     "execution_count": 91,
     "metadata": {},
     "output_type": "execute_result"
    },
    {
     "data": {
      "image/png": "[encoded data removed]",
      "text/plain": [
       "<Figure size 1440x1080 with 1 Axes>"
      ]
     },
     "metadata": {
      "needs_background": "light"
     },
     "output_type": "display_data"
    }
   ],
   "source": [
    "plt.figure(figsize=(20,15))\n",
    "sns.scatterplot(data=np.concatenate((sj_sv_preds, iq_sv_preds), axis=0))"
   ]
  },
  {
   "cell_type": "code",
   "execution_count": 1322,
   "metadata": {},
   "outputs": [],
   "source": [
    "# save_formatted_csv(sj_sv_preds, iq_sv_preds, 'sv_preds_new')"
   ]
  },
  {
   "cell_type": "markdown",
   "metadata": {},
   "source": [
    "### Test Predictions"
   ]
  },
  {
   "cell_type": "code",
   "execution_count": null,
   "metadata": {},
   "outputs": [],
   "source": [
    "# # plots time series of predicted vs actual cases\n",
    "# def plot_preds_actual_time(train_cases, test_cases, actual_cases):\n",
    "#     total = pd.DataFrame()\n",
    "#     total['pred_cases'] = train_cases + test_cases\n",
    "# #     total['actual_cases'] = actual_cases\n",
    "    \n",
    "#     # plotting time forecast of predicted cases vs actual cases\n",
    "#     plt.figure(figsize=(20, 10))\n",
    "#     total.pred_cases.plot(label=\"Predictions\", color='C0')\n",
    "#     actual_cases.plot(label=\"Actual\", color='C3')\n",
    "\n",
    "#     plt.ylabel('dengue count')\n",
    "#     plt.title(\"Dengue Predicted Cases vs. Actual Cases\", fontsize=20)\n",
    "#     plt.legend(fontsize=20)"
   ]
  }
 ],
 "metadata": {
  "kernelspec": {
   "display_name": "Python 3",
   "language": "python",
   "name": "python3"
  },
  "language_info": {
   "codemirror_mode": {
    "name": "ipython",
    "version": 3
   },
   "file_extension": ".py",
   "mimetype": "text/x-python",
   "name": "python",
   "nbconvert_exporter": "python",
   "pygments_lexer": "ipython3",
   "version": "3.7.1"
  }
 },
 "nbformat": 4,
 "nbformat_minor": 2
}
